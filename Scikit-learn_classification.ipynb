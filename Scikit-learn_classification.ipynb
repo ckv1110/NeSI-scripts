{
 "cells": [
  {
   "cell_type": "code",
   "execution_count": null,
   "id": "86daec72-7a97-4240-a59b-994423dfe915",
   "metadata": {},
   "outputs": [],
   "source": [
    "import pandas as pd\n",
    "import mahotas\n",
    "import histomicstk as htk\n",
    "import cv2\n",
    "from PIL import Image, ImageOps"
   ]
  },
  {
   "cell_type": "code",
   "execution_count": null,
   "id": "f227f440-31bd-4a3c-a780-06318a2037bd",
   "metadata": {},
   "outputs": [],
   "source": [
    "# Reads nuclei feature map\n",
    "df = pd.read_csv(\"TCGA14_nuclei_features.csv\")\n",
    "df2 = df.copy() # make copy for when we modify the dataframe"
   ]
  },
  {
   "cell_type": "code",
   "execution_count": null,
   "id": "982d67a2-60a5-4203-b2c2-d817e4c8b8f8",
   "metadata": {},
   "outputs": [],
   "source": [
    "# Convert cell types into intergers, more will be added later \n",
    "cell_map = {'Oligodendrocytes': 0, 'Pyramidal cell': 1, 'Psudopallisading cells': 2}\n",
    "\n",
    "# Map cell_types as integers\n",
    "df2['target'] = df['cell_type'].map(cell_map)\n",
    "y = df2['target']\n",
    "\n",
    "# Generate array of features\n",
    "df_array = np.array(df2)\n",
    "X = df_array[:, (0,1,2,3)] # Can modify which features to include/exclude by changing the values in ()\n",
    "\n",
    "# split the dataset in train / test folds\n",
    "Xtrain, Xtest, ytrain, ytest = train_test_split(X, y, random_state=0) # Can remove random_state if reproducibility is not the main focus"
   ]
  },
  {
   "cell_type": "code",
   "execution_count": null,
   "id": "b2d1336b-9947-4333-97dd-dc83991fdf65",
   "metadata": {},
   "outputs": [],
   "source": [
    "# Import the LogisticRegression class, create a model and fit it to training data\n",
    "from sklearn.linear_model import LogisticRegression\n",
    "clf1 = LogisticRegression(penalty='l2', max_iter=5000) # Can tune penalty to get optimized results\n",
    "clf1.fit(Xtrain, ytrain)\n",
    "ypred1 = clf1.predict(Xtest) # Predict the test set"
   ]
  },
  {
   "cell_type": "code",
   "execution_count": null,
   "id": "efd0d597-5dda-426e-9d08-e444b7562404",
   "metadata": {},
   "outputs": [],
   "source": [
    "# Import RFC to work in\n",
    "from sklearn.ensemble import RandomForestClassifier\n",
    "estimators, depth = 50,20 # Can tune estimators, depth, max_features to get optimized results\n",
    "clf2 = RandomForestClassifier(n_estimators=estimators, max_depth=depth, random_state=0)\n",
    "clf2.fit(Xtrain, ytrain)\n",
    "ypred2 = clf2.predict(Xtest) # Predict the test set"
   ]
  },
  {
   "cell_type": "code",
   "execution_count": null,
   "id": "e6b04643-b0ab-4a6d-b8b6-ff8b3bbe4cc8",
   "metadata": {},
   "outputs": [],
   "source": [
    "# Import the KNeighbours classifier\n",
    "from sklearn.neighbors import KNeighborsClassifier\n",
    "clf3 = KNeighborsClassifier(n_neighbors=1) # Can tune neighbours to optimize results\n",
    "clf3.fit(Xtrain, ytrain)\n",
    "ypred3 = clf3.predict(Xtest) # Predict the test set"
   ]
  },
  {
   "cell_type": "code",
   "execution_count": null,
   "id": "1b935e69-2cf3-4a34-939d-6fd3535c9844",
   "metadata": {},
   "outputs": [],
   "source": [
    "# Import the SVM classifier\n",
    "from sklearn.svm import SVC  # \"Support Vector Classifier\"\n",
    "clf4 = SVC(kernel='linear') # Can tune type of kernel to optimize results\n",
    "clf4.fit(Xtrain, ytrain)\n",
    "ypred4 = clf4.predict(Xtest) # Predict the test set"
   ]
  },
  {
   "cell_type": "code",
   "execution_count": null,
   "id": "7f1b38cd-1bb6-4d62-9f16-f6eff36ce25c",
   "metadata": {},
   "outputs": [],
   "source": [
    "# Import the Kmeans clustering. This method is unsupervised, therefore it does not require the target, only features is needed\n",
    "from sklearn.cluster import KMeans\n",
    "est = KMeans(4)  # Can tune number of clusters to optimize results\n",
    "est.fit(X) # Changed to the whole dataset (X) as we don't have any need for validation here\n",
    "\n",
    "y_kmeans = est.predict(X) # Generate clusters here\n",
    "plt.scatter(X[:, 0], X[:, 1], c=y_kmeans, s=50, cmap='rainbow'); #visualize the resutls"
   ]
  },
  {
   "cell_type": "code",
   "execution_count": null,
   "id": "0f0b3fab-c891-498f-9e24-cc4d9f8b406e",
   "metadata": {},
   "outputs": [],
   "source": [
    "# Display the confusion matrix\n",
    "from sklearn.metrics import ConfusionMatrixDisplay\n",
    "ConfusionMatrixDisplay.from_predictions(\n",
    "    ytest, ypred1, cmap=plt.cm.Blues, display_labels=cell_map) # Change ypred here to visualize confusion matrices\n",
    "plt.grid(False)\n",
    "plt.xticks(rotation=15, ha=\"right\")"
   ]
  }
 ],
 "metadata": {
  "kernelspec": {
   "display_name": "smp-cv_0.2.9.1_gpu",
   "language": "python",
   "name": "smp-cv_0.2.9.1_gpu"
  },
  "language_info": {
   "codemirror_mode": {
    "name": "ipython",
    "version": 3
   },
   "file_extension": ".py",
   "mimetype": "text/x-python",
   "name": "python",
   "nbconvert_exporter": "python",
   "pygments_lexer": "ipython3",
   "version": "3.8.16"
  }
 },
 "nbformat": 4,
 "nbformat_minor": 5
}
